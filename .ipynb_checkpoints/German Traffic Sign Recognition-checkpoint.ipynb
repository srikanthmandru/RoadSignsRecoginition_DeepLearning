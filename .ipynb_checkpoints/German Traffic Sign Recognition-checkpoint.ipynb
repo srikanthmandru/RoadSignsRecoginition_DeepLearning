{
 "cells": [
  {
   "cell_type": "markdown",
   "metadata": {},
   "source": [
    "# GTSRB"
   ]
  },
  {
   "cell_type": "markdown",
   "metadata": {},
   "source": [
    "### Import libraries"
   ]
  },
  {
   "cell_type": "code",
   "execution_count": 1,
   "metadata": {},
   "outputs": [],
   "source": [
    "import numpy as np\n",
    "import pandas as pd\n",
    "import matplotlib.pyplot as plt\n",
    "import seaborn as sns\n",
    "import glob\n",
    "import os\n",
    "\n",
    "\n",
    "%matplotlib inline\n",
    "plt.rcParams['figure.figsize'] = (5.0, 4.0) # set default size of plots\n",
    "plt.rcParams['image.interpolation'] = 'nearest'\n",
    "plt.rcParams['image.cmap'] = 'gray'\n",
    "\n",
    "import warnings\n",
    "warnings.simplefilter(action='ignore', category=FutureWarning)"
   ]
  },
  {
   "cell_type": "code",
   "execution_count": 2,
   "metadata": {},
   "outputs": [
    {
     "name": "stderr",
     "output_type": "stream",
     "text": [
      "Using TensorFlow backend.\n"
     ]
    }
   ],
   "source": [
    "\n",
    "from keras.preprocessing import image\n",
    "from keras.applications.imagenet_utils import preprocess_input\n",
    "from keras.utils import to_categorical\n",
    "\n",
    "from keras import layers\n",
    "from keras.layers import Input, Dense, Activation, Dropout, BatchNormalization, Flatten\n",
    "from keras.layers import AveragePooling2D, MaxPooling2D, GlobalMaxPooling2D, GlobalAveragePooling2D , Flatten, Conv2D, ZeroPadding2D\n",
    "from keras.models import Sequential\n",
    "\n",
    "from keras.optimizers import RMSprop , SGD, Adam\n",
    "\n",
    "\n",
    "import keras.backend as K\n",
    "\n",
    "K.set_image_data_format('channels_last')\n",
    "#K.set_learning_phase(1)\n",
    "\n"
   ]
  },
  {
   "cell_type": "code",
   "execution_count": null,
   "metadata": {},
   "outputs": [],
   "source": []
  },
  {
   "cell_type": "markdown",
   "metadata": {},
   "source": [
    "### Import Data"
   ]
  },
  {
   "cell_type": "code",
   "execution_count": 3,
   "metadata": {},
   "outputs": [],
   "source": [
    "\n",
    "def preprocess_data(X ,way='keras'):\n",
    "    if way == 'keras':\n",
    "        # X_post = preprocess_input(X)\n",
    "        X_post = X/255.\n",
    "    else:\n",
    "        X_post = X/255.\n",
    "    return X_post\n",
    "        \n",
    "\n",
    "    \n",
    "\n"
   ]
  },
  {
   "cell_type": "code",
   "execution_count": 4,
   "metadata": {},
   "outputs": [],
   "source": [
    "### Function to read data from files'\n",
    "\n",
    "def readData(root_directory):\n",
    "    prefix = root_directory\n",
    "\n",
    "    images = []\n",
    "    labels = []\n",
    "\n",
    "    img_paths = glob.glob(os.path.join(prefix , \"*/*.ppm\")) \n",
    "    \n",
    "    np.random.shuffle(img_paths)\n",
    "    \n",
    "    for img_path in img_paths:\n",
    "        img = image.load_img(img_path, target_size=(64, 64))\n",
    "        x = image.img_to_array(img)\n",
    "        #x = np.expand_dims(x, axis=0)\n",
    "        # print('image path {}' .format(img_path))\n",
    "        x = preprocess_data(x)\n",
    "        label = int(img_path.split('/')[-2])\n",
    "        images.append(x)\n",
    "        labels.append(label)\n",
    "    \n",
    "    X = np.array(images, dtype= 'float32')\n",
    "    Y = np.array(labels, dtype='uint8') \n",
    "    return X, Y\n",
    "\n",
    "\n",
    "\n",
    "\n",
    "\n",
    "\n",
    "\n"
   ]
  },
  {
   "cell_type": "code",
   "execution_count": 5,
   "metadata": {},
   "outputs": [
    {
     "name": "stdout",
     "output_type": "stream",
     "text": [
      "(26640, 64, 64, 3)\n",
      "(26640,)\n"
     ]
    }
   ],
   "source": [
    "X_train_original, Y_train_original = readData('training/')\n",
    "\n",
    "\n",
    "print(X_train_original.shape)\n",
    "print(Y_train_original.shape)"
   ]
  },
  {
   "cell_type": "markdown",
   "metadata": {},
   "source": [
    "\n",
    "\n",
    "### Preprocess images\n"
   ]
  },
  {
   "cell_type": "code",
   "execution_count": 6,
   "metadata": {},
   "outputs": [
    {
     "name": "stdout",
     "output_type": "stream",
     "text": [
      "X_train_orig shape: (26640, 64, 64, 3)\n",
      "Y_train_orig shape: (26640, 43)\n"
     ]
    }
   ],
   "source": [
    "### Features for train\n",
    "\n",
    "X_train_orig = X_train_original\n",
    "\n",
    "### ------------------------------------------------------------------------------------------------------------\n",
    "### response labels for train \n",
    "\n",
    "\n",
    "Y_train_orig = to_categorical(Y_train_original, np.max(Y_train_original)+1 )\n",
    "\n",
    "print (\"X_train_orig shape: \" + str(X_train_orig.shape))\n",
    "print (\"Y_train_orig shape: \" + str(Y_train_orig.shape))\n",
    "\n"
   ]
  },
  {
   "cell_type": "code",
   "execution_count": 7,
   "metadata": {},
   "outputs": [
    {
     "name": "stdout",
     "output_type": "stream",
     "text": [
      "y = 24, it's of class '24' picture.\n"
     ]
    },
    {
     "data": {
      "image/png": "[encoded data removed]",
      "text/plain": [
       "<Figure size 432x288 with 1 Axes>"
      ]
     },
     "metadata": {
      "needs_background": "light"
     },
     "output_type": "display_data"
    }
   ],
   "source": [
    "index = 2000\n",
    "plt.imshow(X_train_orig[index])    \n",
    "\n",
    "print (\"y = \" + str(np.argmax(Y_train_orig[index]) + 1 ) + \", it's of class '\" + str(np.argmax(Y_train_orig[index]) + 1) +  \"' picture.\")\n"
   ]
  },
  {
   "cell_type": "code",
   "execution_count": 8,
   "metadata": {},
   "outputs": [
    {
     "name": "stdout",
     "output_type": "stream",
     "text": [
      "number of classe are : 43\n"
     ]
    }
   ],
   "source": [
    "num_classes = int(np.max(Y_train_original) + 1)\n",
    "num_examples = int(X_train_orig.shape[0])\n",
    "pixel_size = int(X_train_orig.shape[1])\n",
    "\n",
    "print(\"number of classe are : {}\" .format(num_classes))\n",
    "\n",
    "input_shape = (pixel_size, pixel_size , 3)\n",
    "\n",
    "### \n",
    "X_train = X_train_orig\n",
    "Y_train = Y_train_orig"
   ]
  },
  {
   "cell_type": "code",
   "execution_count": null,
   "metadata": {},
   "outputs": [],
   "source": []
  },
  {
   "cell_type": "markdown",
   "metadata": {},
   "source": [
    "### Load Test Data and preprocess it"
   ]
  },
  {
   "cell_type": "code",
   "execution_count": 9,
   "metadata": {},
   "outputs": [],
   "source": [
    "\n",
    "test_annot = pd.read_csv('test/GT-final_test.csv',sep=';')\n",
    "\n",
    "X_test = []\n",
    "Y_test = []\n",
    "\n",
    "file_names =  test_annot['Filename'].values\n",
    "\n",
    "\n",
    "for filename, classid  in zip(list(file_names), list(test_annot['ClassId'])):\n",
    "    img_path = os.path.join('Test/Images/',filename)\n",
    "    img = image.load_img((img_path), target_size=(64,64) )\n",
    "    img = image.img_to_array(img)\n",
    "    img = preprocess_data(img)\n",
    "    X_test.append(img)\n",
    "    Y_test.append(classid)\n",
    "    \n",
    "X_test = np.array(X_test, dtype='float32')\n",
    "\n",
    "\n",
    "Y_test = np.array(Y_test, dtype='uint8')\n",
    "Y_test = to_categorical(Y_test, np.max(Y_train_original)+1 )"
   ]
  },
  {
   "cell_type": "code",
   "execution_count": 10,
   "metadata": {},
   "outputs": [
    {
     "name": "stdout",
     "output_type": "stream",
     "text": [
      "(12630, 64, 64, 3)\n",
      "(12630, 43)\n"
     ]
    }
   ],
   "source": [
    "print(X_test.shape)\n",
    "print(Y_test.shape)"
   ]
  },
  {
   "cell_type": "code",
   "execution_count": 11,
   "metadata": {},
   "outputs": [
    {
     "data": {
      "text/plain": [
       "<matplotlib.image.AxesImage at 0x1a54976748>"
      ]
     },
     "execution_count": 11,
     "metadata": {},
     "output_type": "execute_result"
    },
    {
     "data": {
      "image/png": "[encoded data removed]",
      "text/plain": [
       "<Figure size 432x288 with 1 Axes>"
      ]
     },
     "metadata": {
      "needs_background": "light"
     },
     "output_type": "display_data"
    }
   ],
   "source": [
    "index = 5003\n",
    " \n",
    "plt.imshow(X_test[index]) "
   ]
  },
  {
   "cell_type": "markdown",
   "metadata": {},
   "source": [
    "\n",
    "### Shallow Neural Network"
   ]
  },
  {
   "cell_type": "code",
   "execution_count": 12,
   "metadata": {},
   "outputs": [],
   "source": [
    "batch_size = 128\n",
    "num_epochs = 10"
   ]
  },
  {
   "cell_type": "code",
   "execution_count": 13,
   "metadata": {},
   "outputs": [],
   "source": [
    "\n",
    "\n",
    "\n",
    "def shallow_NN(input_shape):\n",
    "    model = Sequential()\n",
    "    model.add(Flatten(input_shape=input_shape)) \n",
    "    model.add(Dense(256) )\n",
    "    model.add(Dropout(rate=0.8))\n",
    "    model.add(Activation('relu'))\n",
    "    model.add(Dense(num_classes, activation = 'softmax'))\n",
    "    return model\n",
    "\n",
    "    \n",
    "    \n",
    "    \n",
    "    \n",
    "    \n",
    "    "
   ]
  },
  {
   "cell_type": "code",
   "execution_count": 14,
   "metadata": {},
   "outputs": [
    {
     "name": "stdout",
     "output_type": "stream",
     "text": [
      "WARNING:tensorflow:Large dropout rate: 0.8 (>0.5). In TensorFlow 2.x, dropout() uses dropout rate instead of keep_prob. Please ensure that this is intended.\n",
      "Model: \"sequential_1\"\n",
      "_________________________________________________________________\n",
      "Layer (type)                 Output Shape              Param #   \n",
      "=================================================================\n",
      "flatten_1 (Flatten)          (None, 12288)             0         \n",
      "_________________________________________________________________\n",
      "dense_1 (Dense)              (None, 256)               3145984   \n",
      "_________________________________________________________________\n",
      "dropout_1 (Dropout)          (None, 256)               0         \n",
      "_________________________________________________________________\n",
      "activation_1 (Activation)    (None, 256)               0         \n",
      "_________________________________________________________________\n",
      "dense_2 (Dense)              (None, 43)                11051     \n",
      "=================================================================\n",
      "Total params: 3,157,035\n",
      "Trainable params: 3,157,035\n",
      "Non-trainable params: 0\n",
      "_________________________________________________________________\n"
     ]
    }
   ],
   "source": [
    "\n",
    "\n",
    "model = shallow_NN((input_shape))\n",
    "\n",
    "\n",
    "sgd = SGD(lr=0.01, momentum=0.9, nesterov=True)\n",
    "\n",
    "model.compile(loss= 'categorical_crossentropy' ,\n",
    "              optimizer = sgd,\n",
    "               metrics=['accuracy'] )\n",
    "\n",
    "model.summary()"
   ]
  },
  {
   "cell_type": "code",
   "execution_count": 15,
   "metadata": {},
   "outputs": [
    {
     "name": "stdout",
     "output_type": "stream",
     "text": [
      "WARNING:tensorflow:From /Users/srikanthmandru/Applications/anaconda3/envs/tensorflow/lib/python3.6/site-packages/keras/backend/tensorflow_backend.py:422: The name tf.global_variables is deprecated. Please use tf.compat.v1.global_variables instead.\n",
      "\n",
      "Train on 21312 samples, validate on 5328 samples\n",
      "Epoch 1/10\n",
      "21312/21312 [==============================] - 7s 307us/step - loss: 3.5476 - accuracy: 0.0775 - val_loss: 3.2277 - val_accuracy: 0.1663\n",
      "Epoch 2/10\n",
      "21312/21312 [==============================] - 6s 299us/step - loss: 3.3424 - accuracy: 0.1023 - val_loss: 3.0767 - val_accuracy: 0.2081\n",
      "Epoch 3/10\n",
      "21312/21312 [==============================] - 6s 296us/step - loss: 3.2930 - accuracy: 0.1043 - val_loss: 2.9758 - val_accuracy: 0.2414\n",
      "Epoch 4/10\n",
      "21312/21312 [==============================] - 6s 300us/step - loss: 3.2434 - accuracy: 0.1094 - val_loss: 2.9232 - val_accuracy: 0.2746\n",
      "Epoch 5/10\n",
      "21312/21312 [==============================] - 6s 299us/step - loss: 3.2072 - accuracy: 0.1127 - val_loss: 2.7899 - val_accuracy: 0.3200\n",
      "Epoch 6/10\n",
      "21312/21312 [==============================] - 6s 294us/step - loss: 3.1898 - accuracy: 0.1165 - val_loss: 2.8356 - val_accuracy: 0.2860\n",
      "Epoch 7/10\n",
      "21312/21312 [==============================] - 6s 295us/step - loss: 3.1586 - accuracy: 0.1181 - val_loss: 2.7170 - val_accuracy: 0.2849\n",
      "Epoch 8/10\n",
      "21312/21312 [==============================] - 6s 295us/step - loss: 3.1479 - accuracy: 0.1183 - val_loss: 2.6467 - val_accuracy: 0.3146\n",
      "Epoch 9/10\n",
      "21312/21312 [==============================] - 6s 294us/step - loss: 3.1241 - accuracy: 0.1203 - val_loss: 2.6304 - val_accuracy: 0.3074\n",
      "Epoch 10/10\n",
      "21312/21312 [==============================] - 6s 294us/step - loss: 3.1129 - accuracy: 0.1236 - val_loss: 2.5801 - val_accuracy: 0.3142\n"
     ]
    },
    {
     "data": {
      "text/plain": [
       "<keras.callbacks.callbacks.History at 0x1a2b00dfd0>"
      ]
     },
     "execution_count": 15,
     "metadata": {},
     "output_type": "execute_result"
    }
   ],
   "source": [
    "\n",
    "model.fit(X_train, Y_train,\n",
    "         batch_size = batch_size,\n",
    "         epochs = num_epochs ,\n",
    "         validation_split = 0.2,\n",
    "         shuffle = True)\n"
   ]
  },
  {
   "cell_type": "code",
   "execution_count": 24,
   "metadata": {},
   "outputs": [
    {
     "name": "stdout",
     "output_type": "stream",
     "text": [
      "12630/12630 [==============================] - 1s 79us/step\n",
      "loss on test is : 2.569610700773419\n",
      "accuracy on test is (in percentage) : 31.49643838405609%\n"
     ]
    }
   ],
   "source": [
    "\n",
    "\n",
    "\n",
    "preds = model.evaluate(X_test, Y_test)\n",
    "\n",
    "print(\"loss on test is : {}\" .format(preds[0]))\n",
    "\n",
    "print(\"accuracy on test is (in percentage) : {}%\" .format(preds[1]*100))"
   ]
  },
  {
   "cell_type": "markdown",
   "metadata": {},
   "source": [
    "#### Comments:\n",
    "Shallow neural networks doesn't even perform close to 50% . Let's explore more models by \n",
    "diving into deep neural networks."
   ]
  },
  {
   "cell_type": "markdown",
   "metadata": {},
   "source": [
    "### Deep Neural networks"
   ]
  },
  {
   "cell_type": "code",
   "execution_count": 17,
   "metadata": {},
   "outputs": [],
   "source": [
    "\n",
    "\n",
    "def Deep_NN(input_shape):\n",
    "    model = Sequential()\n",
    "    model.add(Flatten(input_shape=input_shape)) \n",
    "    model.add(Dense(1024 ) )\n",
    "    model.add(Dropout(rate= 0.2))\n",
    "    model.add(Activation('relu'))\n",
    "    model.add(Dense(512) )\n",
    "    model.add(Dropout(rate = 0.2))\n",
    "    model.add(Activation('relu'))\n",
    "    model.add(Dense(256) )\n",
    "    model.add(Dropout(rate =0.2))\n",
    "    model.add(Activation('relu'))\n",
    "    model.add(Dense(128) )\n",
    "    model.add(Dropout(rate =0.2))\n",
    "    model.add(Activation('relu'))\n",
    "    model.add(Dense(64) )\n",
    "    model.add(Dropout(rate =0.2))\n",
    "    model.add(Activation('relu'))\n",
    "    model.add(Dense(num_classes, activation = 'softmax'))\n",
    "    return model\n",
    "\n",
    "\n",
    "\n"
   ]
  },
  {
   "cell_type": "code",
   "execution_count": 18,
   "metadata": {},
   "outputs": [
    {
     "name": "stdout",
     "output_type": "stream",
     "text": [
      "Model: \"sequential_2\"\n",
      "_________________________________________________________________\n",
      "Layer (type)                 Output Shape              Param #   \n",
      "=================================================================\n",
      "flatten_2 (Flatten)          (None, 12288)             0         \n",
      "_________________________________________________________________\n",
      "dense_3 (Dense)              (None, 1024)              12583936  \n",
      "_________________________________________________________________\n",
      "dropout_2 (Dropout)          (None, 1024)              0         \n",
      "_________________________________________________________________\n",
      "activation_2 (Activation)    (None, 1024)              0         \n",
      "_________________________________________________________________\n",
      "dense_4 (Dense)              (None, 512)               524800    \n",
      "_________________________________________________________________\n",
      "dropout_3 (Dropout)          (None, 512)               0         \n",
      "_________________________________________________________________\n",
      "activation_3 (Activation)    (None, 512)               0         \n",
      "_________________________________________________________________\n",
      "dense_5 (Dense)              (None, 256)               131328    \n",
      "_________________________________________________________________\n",
      "dropout_4 (Dropout)          (None, 256)               0         \n",
      "_________________________________________________________________\n",
      "activation_4 (Activation)    (None, 256)               0         \n",
      "_________________________________________________________________\n",
      "dense_6 (Dense)              (None, 128)               32896     \n",
      "_________________________________________________________________\n",
      "dropout_5 (Dropout)          (None, 128)               0         \n",
      "_________________________________________________________________\n",
      "activation_5 (Activation)    (None, 128)               0         \n",
      "_________________________________________________________________\n",
      "dense_7 (Dense)              (None, 64)                8256      \n",
      "_________________________________________________________________\n",
      "dropout_6 (Dropout)          (None, 64)                0         \n",
      "_________________________________________________________________\n",
      "activation_6 (Activation)    (None, 64)                0         \n",
      "_________________________________________________________________\n",
      "dense_8 (Dense)              (None, 43)                2795      \n",
      "=================================================================\n",
      "Total params: 13,284,011\n",
      "Trainable params: 13,284,011\n",
      "Non-trainable params: 0\n",
      "_________________________________________________________________\n"
     ]
    }
   ],
   "source": [
    "deep_model = Deep_NN((input_shape))\n",
    "\n",
    "\n",
    "deep_sgd = SGD(lr=0.01, momentum=0.9, nesterov=True)\n",
    "\n",
    "deep_model.compile(loss= 'categorical_crossentropy' ,\n",
    "              optimizer = deep_sgd,\n",
    "               metrics=['accuracy'] )\n",
    "\n",
    "deep_model.summary()\n",
    "\n"
   ]
  },
  {
   "cell_type": "code",
   "execution_count": 19,
   "metadata": {},
   "outputs": [
    {
     "name": "stdout",
     "output_type": "stream",
     "text": [
      "Train on 21312 samples, validate on 5328 samples\n",
      "Epoch 1/10\n",
      "21312/21312 [==============================] - 23s 1ms/step - loss: 3.3592 - accuracy: 0.1153 - val_loss: 2.8497 - val_accuracy: 0.2494\n",
      "Epoch 2/10\n",
      "21312/21312 [==============================] - 22s 1ms/step - loss: 2.4362 - accuracy: 0.3053 - val_loss: 1.8436 - val_accuracy: 0.4443\n",
      "Epoch 3/10\n",
      "21312/21312 [==============================] - 22s 1ms/step - loss: 1.8776 - accuracy: 0.4216 - val_loss: 1.5933 - val_accuracy: 0.4992\n",
      "Epoch 4/10\n",
      "21312/21312 [==============================] - 22s 1ms/step - loss: 1.5423 - accuracy: 0.5157 - val_loss: 1.1235 - val_accuracy: 0.6410\n",
      "Epoch 5/10\n",
      "21312/21312 [==============================] - 22s 1ms/step - loss: 1.3253 - accuracy: 0.5826 - val_loss: 1.0645 - val_accuracy: 0.6633\n",
      "Epoch 6/10\n",
      "21312/21312 [==============================] - 22s 1ms/step - loss: 1.1334 - accuracy: 0.6394 - val_loss: 0.8178 - val_accuracy: 0.7361\n",
      "Epoch 7/10\n",
      "21312/21312 [==============================] - 22s 1ms/step - loss: 1.0123 - accuracy: 0.6800 - val_loss: 0.6957 - val_accuracy: 0.7804\n",
      "Epoch 8/10\n",
      "21312/21312 [==============================] - 22s 1ms/step - loss: 0.9026 - accuracy: 0.7145 - val_loss: 0.7719 - val_accuracy: 0.7583\n",
      "Epoch 9/10\n",
      "21312/21312 [==============================] - 23s 1ms/step - loss: 0.8444 - accuracy: 0.7364 - val_loss: 0.5499 - val_accuracy: 0.8224\n",
      "Epoch 10/10\n",
      "21312/21312 [==============================] - 22s 1ms/step - loss: 0.7906 - accuracy: 0.7517 - val_loss: 0.5322 - val_accuracy: 0.8438\n"
     ]
    },
    {
     "data": {
      "text/plain": [
       "<keras.callbacks.callbacks.History at 0x1a2cd0ee48>"
      ]
     },
     "execution_count": 19,
     "metadata": {},
     "output_type": "execute_result"
    }
   ],
   "source": [
    "deep_model.fit(X_train, Y_train,\n",
    "         batch_size = batch_size,\n",
    "         epochs = num_epochs ,\n",
    "         validation_split = 0.2,\n",
    "         shuffle = True)"
   ]
  },
  {
   "cell_type": "code",
   "execution_count": 23,
   "metadata": {},
   "outputs": [
    {
     "name": "stdout",
     "output_type": "stream",
     "text": [
      "12630/12630 [==============================] - 2s 193us/step\n",
      " accuracy on test using deep NN is (in percentage): 75.24940371513367%\n"
     ]
    }
   ],
   "source": [
    "deep_preds = deep_model.evaluate(X_test, Y_test)\n",
    "print(\" accuracy on test using deep NN is (in percentage): {}%\" .format(deep_preds[1]*100))"
   ]
  },
  {
   "cell_type": "markdown",
   "metadata": {},
   "source": [
    "#### Comments:\n",
    "    Deep Neural network did some descent job in predicting the road signs with nearly 75% accuracy on test set. \n"
   ]
  },
  {
   "cell_type": "markdown",
   "metadata": {},
   "source": [
    "## Convolutional NN (keras)"
   ]
  },
  {
   "cell_type": "markdown",
   "metadata": {},
   "source": [
    "\n",
    "####  Inspired from VGG-16 \n",
    "\n"
   ]
  },
  {
   "cell_type": "code",
   "execution_count": 29,
   "metadata": {},
   "outputs": [],
   "source": [
    "### convolutional neural networls model built taking inspiration from VGG16 architecture\n",
    "\n",
    "\n",
    "def CNN_VGG_model(input_shape):\n",
    "    model = Sequential()\n",
    "    \n",
    "    model.add(Conv2D(input_shape = input_shape, filters = 32 , kernel_size = (3,3) ,padding='same', name= \"conv_1\"))\n",
    "    model.add(Activation('relu'))\n",
    "    model.add(Conv2D(filters = 32 ,  kernel_size = (3,3), padding='same', name= \"conv_12\"))\n",
    "    model.add(Dropout(rate = dropout_rate))\n",
    "    model.add(BatchNormalization(axis = 3 , name =\"bn_1\") )\n",
    "    model.add(Activation('relu'))\n",
    "    model.add(MaxPooling2D((2,2) , name = \"max_pool_1\"))\n",
    "    \n",
    "    \n",
    "    model.add(Conv2D(filters = 64 ,  kernel_size = (3,3), padding='same', name= \"conv_21\"))\n",
    "    model.add(Activation('relu'))\n",
    "    model.add(Conv2D(filters = 64 ,  kernel_size = (3,3), padding='same', name= \"conv_22\"))\n",
    "    model.add(Dropout(rate = dropout_rate))\n",
    "    model.add(BatchNormalization(axis = 3 , name =\"bn_2\") )\n",
    "    model.add(Activation('relu'))\n",
    "    model.add(MaxPooling2D((2,2) ,name = \"max_pool_2\"))\n",
    "    \n",
    "    \n",
    "    model.add(Conv2D(filters = 128 ,  kernel_size = (3,3), padding='same', name= \"conv_3\"))\n",
    "    model.add(Dropout(rate = dropout_rate))\n",
    "    model.add(BatchNormalization(axis = 3 , name =\"bn_3\") )\n",
    "    model.add(Activation('relu'))\n",
    "    model.add(MaxPooling2D((2,2) , name = \"max_pool_3\"))\n",
    "    \n",
    "    \n",
    "    model.add(Conv2D(filters = 128 ,  kernel_size = (2,2),padding='same', name= \"conv_4\"))\n",
    "    model.add(Dropout(rate = 0.2))\n",
    "    model.add(BatchNormalization(axis = 3 , name =\"bn_4\") )\n",
    "    model.add(Activation('relu'))\n",
    "    model.add(MaxPooling2D((2,2) , name = \"max_pool_4\"))\n",
    "    \n",
    "    \n",
    "    # model.add(Conv2D(filters = 512 ,  kernel_size = (3,3), strides=(1,1), activation = 'relu' ,padding='same', name= \"conv_5\"))\n",
    "    # model.add(Dropout(rate = dropout_rate))\n",
    "    # model.add(BatchNormalization(axis = 3 , name =\"bn_5\") )\n",
    "    # model.add(MaxPooling2D((2,2) , name = \"max_pool_5\"))\n",
    "    \n",
    "    model.add(Flatten())\n",
    "    \n",
    "    # model.add(Dense(2048 , name = 'Fully_connected_10' ))\n",
    "    # model.add(Dropout(rate = dropout_rate) )\n",
    "    # model.add(BatchNormalization(axis = -1 , name =\"bn_10\") )  \n",
    "    # model.add(Activation('relu'))\n",
    "    \n",
    "    model.add(Dense(512 , name = 'Fully_connected_11' ))\n",
    "    # model.add(Dropout(rate = 0.25) )\n",
    "    model.add(Activation('relu'))\n",
    "\n",
    "    \n",
    "    model.add(Dense(num_classes, activation= 'softmax', name = 'softmax_output_11' ))\n",
    "    \n",
    "    return model\n",
    "              \n",
    "    \n",
    "    \n",
    "    \n",
    "    \n",
    "    \n",
    "    \n",
    "    "
   ]
  },
  {
   "cell_type": "code",
   "execution_count": 30,
   "metadata": {},
   "outputs": [
    {
     "name": "stdout",
     "output_type": "stream",
     "text": [
      "Model: \"sequential_4\"\n",
      "_________________________________________________________________\n",
      "Layer (type)                 Output Shape              Param #   \n",
      "=================================================================\n",
      "conv_1 (Conv2D)              (None, 64, 64, 32)        896       \n",
      "_________________________________________________________________\n",
      "activation_14 (Activation)   (None, 64, 64, 32)        0         \n",
      "_________________________________________________________________\n",
      "conv_12 (Conv2D)             (None, 64, 64, 32)        9248      \n",
      "_________________________________________________________________\n",
      "dropout_11 (Dropout)         (None, 64, 64, 32)        0         \n",
      "_________________________________________________________________\n",
      "bn_1 (BatchNormalization)    (None, 64, 64, 32)        128       \n",
      "_________________________________________________________________\n",
      "activation_15 (Activation)   (None, 64, 64, 32)        0         \n",
      "_________________________________________________________________\n",
      "max_pool_1 (MaxPooling2D)    (None, 32, 32, 32)        0         \n",
      "_________________________________________________________________\n",
      "conv_21 (Conv2D)             (None, 32, 32, 64)        18496     \n",
      "_________________________________________________________________\n",
      "activation_16 (Activation)   (None, 32, 32, 64)        0         \n",
      "_________________________________________________________________\n",
      "conv_22 (Conv2D)             (None, 32, 32, 64)        36928     \n",
      "_________________________________________________________________\n",
      "dropout_12 (Dropout)         (None, 32, 32, 64)        0         \n",
      "_________________________________________________________________\n",
      "bn_2 (BatchNormalization)    (None, 32, 32, 64)        256       \n",
      "_________________________________________________________________\n",
      "activation_17 (Activation)   (None, 32, 32, 64)        0         \n",
      "_________________________________________________________________\n",
      "max_pool_2 (MaxPooling2D)    (None, 16, 16, 64)        0         \n",
      "_________________________________________________________________\n",
      "conv_3 (Conv2D)              (None, 16, 16, 128)       73856     \n",
      "_________________________________________________________________\n",
      "dropout_13 (Dropout)         (None, 16, 16, 128)       0         \n",
      "_________________________________________________________________\n",
      "bn_3 (BatchNormalization)    (None, 16, 16, 128)       512       \n",
      "_________________________________________________________________\n",
      "activation_18 (Activation)   (None, 16, 16, 128)       0         \n",
      "_________________________________________________________________\n",
      "max_pool_3 (MaxPooling2D)    (None, 8, 8, 128)         0         \n",
      "_________________________________________________________________\n",
      "conv_4 (Conv2D)              (None, 8, 8, 128)         65664     \n",
      "_________________________________________________________________\n",
      "dropout_14 (Dropout)         (None, 8, 8, 128)         0         \n",
      "_________________________________________________________________\n",
      "bn_4 (BatchNormalization)    (None, 8, 8, 128)         512       \n",
      "_________________________________________________________________\n",
      "activation_19 (Activation)   (None, 8, 8, 128)         0         \n",
      "_________________________________________________________________\n",
      "max_pool_4 (MaxPooling2D)    (None, 4, 4, 128)         0         \n",
      "_________________________________________________________________\n",
      "flatten_4 (Flatten)          (None, 2048)              0         \n",
      "_________________________________________________________________\n",
      "Fully_connected_11 (Dense)   (None, 512)               1049088   \n",
      "_________________________________________________________________\n",
      "activation_20 (Activation)   (None, 512)               0         \n",
      "_________________________________________________________________\n",
      "softmax_output_11 (Dense)    (None, 43)                22059     \n",
      "=================================================================\n",
      "Total params: 1,277,643\n",
      "Trainable params: 1,276,939\n",
      "Non-trainable params: 704\n",
      "_________________________________________________________________\n"
     ]
    }
   ],
   "source": [
    "dropout_rate = 0.2\n",
    "\n",
    "\n",
    "cnn_vgg_model = CNN_VGG_model(input_shape)\n",
    "\n",
    "cnn_adam = Adam(lr=0.01, beta_1=0.9, beta_2=0.99, amsgrad=False)\n",
    "cnn_sgd = SGD(lr=0.01, momentum=0.9, nesterov=True)\n",
    "\n",
    "cnn_vgg_model.compile(loss= 'categorical_crossentropy' ,\n",
    "              optimizer = cnn_sgd,\n",
    "               metrics=['accuracy'] )\n",
    "\n",
    "cnn_vgg_model.summary()"
   ]
  },
  {
   "cell_type": "code",
   "execution_count": 31,
   "metadata": {},
   "outputs": [
    {
     "name": "stdout",
     "output_type": "stream",
     "text": [
      "Train on 21312 samples, validate on 5328 samples\n",
      "Epoch 1/5\n",
      "21312/21312 [==============================] - 265s 12ms/step - loss: 1.4814 - accuracy: 0.5823 - val_loss: 0.9948 - val_accuracy: 0.6931\n",
      "Epoch 2/5\n",
      "21312/21312 [==============================] - 272s 13ms/step - loss: 0.1430 - accuracy: 0.9561 - val_loss: 0.2357 - val_accuracy: 0.9687\n",
      "Epoch 3/5\n",
      "21312/21312 [==============================] - 277s 13ms/step - loss: 0.0642 - accuracy: 0.9806 - val_loss: 0.3370 - val_accuracy: 0.9135\n",
      "Epoch 4/5\n",
      "21312/21312 [==============================] - 255s 12ms/step - loss: 0.0456 - accuracy: 0.9855 - val_loss: 0.1378 - val_accuracy: 0.9696\n",
      "Epoch 5/5\n",
      "21312/21312 [==============================] - 250s 12ms/step - loss: 0.0288 - accuracy: 0.9909 - val_loss: 0.0774 - val_accuracy: 0.9833\n"
     ]
    },
    {
     "data": {
      "text/plain": [
       "<keras.callbacks.callbacks.History at 0x1a32923c50>"
      ]
     },
     "execution_count": 31,
     "metadata": {},
     "output_type": "execute_result"
    }
   ],
   "source": [
    "cnn_vgg_model.fit(X_train, Y_train,\n",
    "         batch_size = 32,\n",
    "         epochs = 5 ,\n",
    "         validation_split = 0.2,\n",
    "         shuffle = True)"
   ]
  },
  {
   "cell_type": "code",
   "execution_count": 32,
   "metadata": {},
   "outputs": [
    {
     "name": "stdout",
     "output_type": "stream",
     "text": [
      "12630/12630 [==============================] - 24s 2ms/step\n",
      " accuracy on test using CNN_vgg is( in percentage): 92.9928719997406\n"
     ]
    }
   ],
   "source": [
    "cnn_vgg_preds = cnn_vgg_model.evaluate(X_test, Y_test)\n",
    "\n",
    "print(\" accuracy on test using CNN_vgg is( in percentage): {}\" .format(cnn_vgg_preds[1]*100))"
   ]
  },
  {
   "cell_type": "markdown",
   "metadata": {},
   "source": [
    "#### Comments: \n",
    "   Convolutional neural networks performed well by getting around 90% accuracy on test set. I will try to implement different achitectures and also tuning the models built here. Stay tuned! "
   ]
  },
  {
   "cell_type": "code",
   "execution_count": null,
   "metadata": {},
   "outputs": [],
   "source": []
  }
 ],
 "metadata": {
  "kernelspec": {
   "display_name": "Python 3",
   "language": "python",
   "name": "python3"
  },
  "language_info": {
   "codemirror_mode": {
    "name": "ipython",
    "version": 3
   },
   "file_extension": ".py",
   "mimetype": "text/x-python",
   "name": "python",
   "nbconvert_exporter": "python",
   "pygments_lexer": "ipython3",
   "version": "3.6.9"
  }
 },
 "nbformat": 4,
 "nbformat_minor": 2
}
